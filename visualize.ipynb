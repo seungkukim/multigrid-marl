{
 "cells": [
  {
   "cell_type": "code",
   "execution_count": 2,
   "metadata": {},
   "outputs": [
    {
     "name": "stderr",
     "output_type": "stream",
     "text": [
      "/home/sk/miniconda3/envs/deir/lib/python3.9/site-packages/torch/utils/tensorboard/__init__.py:4: DeprecationWarning: distutils Version classes are deprecated. Use packaging.version instead.\n",
      "  if not hasattr(tensorboard, \"__version__\") or LooseVersion(\n"
     ]
    }
   ],
   "source": [
    "import gym\n",
    "import time\n",
    "import argparse\n",
    "import matplotlib.pyplot as plt\n",
    "# import skvideo\n",
    "# import skvideo.io\n",
    "\n",
    "from gym.envs.registration import register\n",
    "from gym_multigrid.envs.collect_game import CollectGameEnv\n",
    "from gym_multigrid.envs.augmented_collect_game import AugCollectGameEnv\n",
    "from stable_baselines3 import A2C, DQN, PPO\n"
   ]
  },
  {
   "cell_type": "code",
   "execution_count": 3,
   "metadata": {},
   "outputs": [],
   "source": [
    "model_path = \"ckpt/single-agent-test/10.zip\"\n",
    "opponent_model = PPO.load(model_path)\n",
    "model = PPO.load(model_path)"
   ]
  },
  {
   "cell_type": "code",
   "execution_count": 4,
   "metadata": {},
   "outputs": [
    {
     "name": "stderr",
     "output_type": "stream",
     "text": [
      "/home/sk/miniconda3/envs/deir/lib/python3.9/site-packages/gym/utils/seeding.py:47: DeprecationWarning: \u001b[33mWARN: Function `rng.randint(low, [high, size, dtype])` is marked as deprecated and will be removed in the future. Please use `rng.integers(low, [high, size, dtype])` instead.\u001b[0m\n",
      "  deprecation(\n"
     ]
    }
   ],
   "source": [
    "env = AugCollectGameEnv(\n",
    "    size=10,\n",
    "    num_balls=[5],\n",
    "    agents_index=[0, 0],\n",
    "    balls_index=[0],\n",
    "    balls_reward=[1],\n",
    "    zero_sum=True,\n",
    "    partial_obs=False,\n",
    "    opponent_policy=[opponent_model]\n",
    ")"
   ]
  },
  {
   "cell_type": "code",
   "execution_count": 5,
   "metadata": {},
   "outputs": [
    {
     "name": "stdout",
     "output_type": "stream",
     "text": [
      "0\n"
     ]
    }
   ],
   "source": [
    "obs = env.reset()\n",
    "\n",
    "nb_agents = len(env.agents)\n",
    "img_arr = []\n",
    "\n",
    "total_reward = 0\n",
    "for i in range(env.max_steps):\n",
    "    img = env.render(mode='rgb_array', highlight=False)\n",
    "    img_arr.append(img)\n",
    "\n",
    "    ac, _ = model.predict(obs)\n",
    "\n",
    "    obs, reward, done, _ = env.step(ac)\n",
    "    total_reward += reward\n",
    "\n",
    "    if done:\n",
    "        break\n",
    "\n",
    "print(total_reward)"
   ]
  },
  {
   "cell_type": "code",
   "execution_count": null,
   "metadata": {},
   "outputs": [],
   "source": [
    "# Export img arr to videp\n",
    "# Due to scikit-video dependency error\n",
    "# Follow steps 1, 2\n",
    "\n",
    "# 1st save img_arr to\n",
    "# import numpy as np\n",
    "# np.save('img_arr', img_arr)\n",
    "\n",
    "# 2nd using another python environment\n",
    "# import skvideo.io\n",
    "# import numpy as np\n",
    "\n",
    "# img_arr = np.load('img_arr.npy')\n",
    "\n",
    "# skvideo.io.vwrite(\n",
    "#         'test.mp4',\n",
    "#         img_arr,\n",
    "#         verbosity=1\n",
    "#     )\n"
   ]
  }
 ],
 "metadata": {
  "kernelspec": {
   "display_name": "deir",
   "language": "python",
   "name": "python3"
  },
  "language_info": {
   "codemirror_mode": {
    "name": "ipython",
    "version": 3
   },
   "file_extension": ".py",
   "mimetype": "text/x-python",
   "name": "python",
   "nbconvert_exporter": "python",
   "pygments_lexer": "ipython3",
   "version": "3.9.19"
  }
 },
 "nbformat": 4,
 "nbformat_minor": 2
}
